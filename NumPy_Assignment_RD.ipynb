{
  "nbformat": 4,
  "nbformat_minor": 0,
  "metadata": {
    "colab": {
      "name": "NumPy Assignment_RD.ipynb",
      "provenance": [],
      "collapsed_sections": []
    },
    "kernelspec": {
      "name": "python3",
      "display_name": "Python 3"
    },
    "language_info": {
      "name": "python"
    }
  },
  "cells": [
    {
      "cell_type": "markdown",
      "metadata": {
        "id": "UbRQPo-7hBk1"
      },
      "source": [
        "1. \n",
        "Write a function so that the columns of the output matrix are powers of the input vector.\n",
        "\n",
        "The order of the powers is determined by the increasing boolean argument. Specifically, when increasing is False, the i-th output column is the input vector raised element-wise to the power of N - i - 1.\n",
        "\n",
        "HINT: Such a matrix with a geometric progression in each row is named for Alexandre-Theophile Vandermonde."
      ]
    },
    {
      "cell_type": "code",
      "metadata": {
        "id": "p1wLTH0yhz3w"
      },
      "source": [
        "import numpy as np\n"
      ],
      "execution_count": 1,
      "outputs": []
    },
    {
      "cell_type": "code",
      "metadata": {
        "id": "zR32BAUH-kl1"
      },
      "source": [
        "def alex(vector,n,increasing=False):\n",
        "  if increasing:\n",
        "    result=np.matrix([j**i for j in vector for i in range(n)]).reshape(vector.size,n)\n",
        "  else:\n",
        "    result=np.matrix([j**(n-i-1) for j in vector for i in range(n)]).reshape(vector.size,n)\n",
        "\n",
        "  return result\n"
      ],
      "execution_count": 25,
      "outputs": []
    },
    {
      "cell_type": "code",
      "metadata": {
        "id": "FOda-agp_mMu"
      },
      "source": [
        "a=np.array([1,2,3,4,5])\n",
        "n=4"
      ],
      "execution_count": 29,
      "outputs": []
    },
    {
      "cell_type": "code",
      "metadata": {
        "colab": {
          "base_uri": "https://localhost:8080/"
        },
        "id": "ZQMClAR4_mz5",
        "outputId": "eef11383-faed-4a73-b006-317d4c3b21d6"
      },
      "source": [
        "alex(a,n,True)\n"
      ],
      "execution_count": 30,
      "outputs": [
        {
          "output_type": "execute_result",
          "data": {
            "text/plain": [
              "matrix([[  1,   1,   1,   1],\n",
              "        [  1,   2,   4,   8],\n",
              "        [  1,   3,   9,  27],\n",
              "        [  1,   4,  16,  64],\n",
              "        [  1,   5,  25, 125]])"
            ]
          },
          "metadata": {
            "tags": []
          },
          "execution_count": 30
        }
      ]
    },
    {
      "cell_type": "code",
      "metadata": {
        "colab": {
          "base_uri": "https://localhost:8080/"
        },
        "id": "YQh6klwTim6t",
        "outputId": "c1796b14-8378-411f-93a2-1abc4f9d90e8"
      },
      "source": [
        "alex(a,n,False)"
      ],
      "execution_count": 31,
      "outputs": [
        {
          "output_type": "execute_result",
          "data": {
            "text/plain": [
              "matrix([[  1,   1,   1,   1],\n",
              "        [  8,   4,   2,   1],\n",
              "        [ 27,   9,   3,   1],\n",
              "        [ 64,  16,   4,   1],\n",
              "        [125,  25,   5,   1]])"
            ]
          },
          "metadata": {
            "tags": []
          },
          "execution_count": 31
        }
      ]
    },
    {
      "cell_type": "markdown",
      "metadata": {
        "id": "YlWXUIi_mpn0"
      },
      "source": [
        "2.\n",
        "Question: Write a function to find moving average in an array over a window:\n",
        "Test it over [3, 5, 7, 2, 8, 10, 11, 65, 72, 81, 99, 100, 150] and window of 3."
      ]
    },
    {
      "cell_type": "markdown",
      "metadata": {
        "id": "j661Z3YbmxXO"
      },
      "source": [
        "Given a sequence of n values x1, x2, ..., xn and a window size k>0, the k-th moving average of\n",
        "the given sequence is defined as follows:\n",
        "The moving average sequence has n-k+1 elements as shown below.\n",
        "The moving averages with k=4 of a ten-value sequence (n=10) is shown below\n",
        "i 1 2 3 4 5 6 7 8 9 10\n",
        "===== == == == == == == == == == ==\n",
        "\n",
        "Input 10 20 30 40 50 60 70 80 90 100\n",
        "\n",
        "y1 25 = (10+20+30+40)/4\n",
        "\n",
        "y2 35 = (20+30+40+50)/4\n",
        "\n",
        "y3 45 = (30+40+50+60)/4\n",
        "\n",
        "y4 55 = (40+50+60+70)/4\n",
        "\n",
        "y5 65 = (50+60+70+80)/4\n",
        "\n",
        "y6 75 = (60+70+80+90)/4\n",
        "\n",
        "y7 85 = (70+80+90+100)/4\n",
        "\n",
        "Thus, the moving average sequence has n-k+1=10-4+1=7 values."
      ]
    },
    {
      "cell_type": "code",
      "metadata": {
        "id": "myIblAbMmrXU"
      },
      "source": [
        "def mov_avg_val(mylist, N):\n",
        "    cumsum, moving_aves = [0], []\n",
        "    for i, x in enumerate(mylist, 1):\n",
        "        cumsum.append(cumsum[i-1] + x) \n",
        "        if i>=N:\n",
        "            moving_ave = round(((cumsum[i] - cumsum[i-N])/N),2) \n",
        "  \n",
        "            moving_aves.append(moving_ave) \n",
        "            \n",
        "    print(\"Moving average values list: \", moving_aves)\n",
        "    print(\"Length of the list l-N+1: \", len(moving_aves))\n"
      ],
      "execution_count": 43,
      "outputs": []
    },
    {
      "cell_type": "code",
      "metadata": {
        "id": "e13WP15Oqmpf"
      },
      "source": [
        "l=[1,2,3,4,5,6,7,8,9,10]\n",
        "n=4"
      ],
      "execution_count": 44,
      "outputs": []
    },
    {
      "cell_type": "code",
      "metadata": {
        "colab": {
          "base_uri": "https://localhost:8080/"
        },
        "id": "mivvM8fMqrpC",
        "outputId": "5cc8aed4-3a07-4118-831b-e37bfa8a4c74"
      },
      "source": [
        "mov_avg_val(l,n)"
      ],
      "execution_count": 45,
      "outputs": [
        {
          "output_type": "stream",
          "text": [
            "Moving average values list:  [2.5, 3.5, 4.5, 5.5, 6.5, 7.5, 8.5]\n",
            "Length of the list l-N+1:  7\n"
          ],
          "name": "stdout"
        }
      ]
    },
    {
      "cell_type": "code",
      "metadata": {
        "id": "AM4ZTICGwoJ1"
      },
      "source": [
        "l1=[3, 5, 7, 2, 8, 10, 11, 65, 72, 81, 99, 100, 150]  \n",
        "w=3"
      ],
      "execution_count": 46,
      "outputs": []
    },
    {
      "cell_type": "code",
      "metadata": {
        "colab": {
          "base_uri": "https://localhost:8080/"
        },
        "id": "7Sskb9j3uHcA",
        "outputId": "2960f141-fbff-454a-ff98-6467f098b84a"
      },
      "source": [
        "mov_avg_val(l1,w)"
      ],
      "execution_count": 47,
      "outputs": [
        {
          "output_type": "stream",
          "text": [
            "Moving average values list:  [5.0, 4.67, 5.67, 6.67, 9.67, 28.67, 49.33, 72.67, 84.0, 93.33, 116.33]\n",
            "Length of the list l-N+1:  11\n"
          ],
          "name": "stdout"
        }
      ]
    },
    {
      "cell_type": "code",
      "metadata": {
        "id": "bDGKvYxowxND"
      },
      "source": [
        ""
      ],
      "execution_count": null,
      "outputs": []
    }
  ]
}