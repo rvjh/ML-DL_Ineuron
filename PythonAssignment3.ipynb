{
  "nbformat": 4,
  "nbformat_minor": 0,
  "metadata": {
    "colab": {
      "name": "PythonAssignment3.ipynb",
      "provenance": [],
      "collapsed_sections": []
    },
    "kernelspec": {
      "name": "python3",
      "display_name": "Python 3"
    },
    "language_info": {
      "name": "python"
    }
  },
  "cells": [
    {
      "cell_type": "markdown",
      "metadata": {
        "id": "l6kB6AuEkJ9n"
      },
      "source": [
        "1.1 Write a Python Program to implement your own myreduce() function which works exactly\n",
        "like Python's built-in function reduce()"
      ]
    },
    {
      "cell_type": "code",
      "metadata": {
        "id": "EzNgQ2o8hhv7"
      },
      "source": [
        "## in myreduce function i am basically finding the square of numbers in a list and after squaring just doing the sum\n",
        "\n",
        "def myreduce(num):\n",
        "  b=[]\n",
        "  a=list(range(1,num+1))\n",
        "  # here i am finding the square e of numbers inside a list\n",
        "  for i in a:\n",
        "    b.append(i**2)\n",
        "  print(\"the original data is :\",a)\n",
        "  print(\"square values are :\",b)\n",
        "  # now sum of squares \n",
        "  c=0\n",
        "  for j in b:\n",
        "    c=c+j\n",
        "  print(\"sum is \",c)\n"
      ],
      "execution_count": 41,
      "outputs": []
    },
    {
      "cell_type": "code",
      "metadata": {
        "colab": {
          "base_uri": "https://localhost:8080/"
        },
        "id": "YpXDrIt-jOnC",
        "outputId": "6b3a5fc6-fa25-483e-ae6a-35c44352aab4"
      },
      "source": [
        "n=int(input(\"enter no items :\"))\n",
        "myreduce(n)"
      ],
      "execution_count": 43,
      "outputs": [
        {
          "output_type": "stream",
          "text": [
            "enter no items :5\n",
            "the original data is : [1, 2, 3, 4, 5]\n",
            "square values are : [1, 4, 9, 16, 25]\n",
            "sum is  55\n"
          ],
          "name": "stdout"
        }
      ]
    },
    {
      "cell_type": "markdown",
      "metadata": {
        "id": "zUnkYYXOmmzH"
      },
      "source": [
        "1.2 Write a Python program to implement your own myfilter() function which works exactly\n",
        "like Python's built-in function filter()"
      ]
    },
    {
      "cell_type": "code",
      "metadata": {
        "id": "XW4AH9_iiPnZ"
      },
      "source": [
        "def myfilter(l):\n",
        "  even_no=[]\n",
        "  odd_no=[]\n",
        "  for i in l:\n",
        "    if i%2==0:\n",
        "      even_no.append(i)\n",
        "    else:\n",
        "      odd_no.append(i)\n",
        "  print(\"the original list : \",l)\n",
        "  print(\"even nos are : \",even_no)\n",
        "  print(\"odd nos are : \",odd_no)\n",
        "\n"
      ],
      "execution_count": 48,
      "outputs": []
    },
    {
      "cell_type": "code",
      "metadata": {
        "colab": {
          "base_uri": "https://localhost:8080/"
        },
        "id": "gzkFo6sQpTuG",
        "outputId": "acb815a8-fdfb-4757-acb9-b8e73d46b121"
      },
      "source": [
        "a=int(input(\"enter the number :\"))\n",
        "b=list(range(1,a+1))\n",
        "myfilter(b)"
      ],
      "execution_count": 50,
      "outputs": [
        {
          "output_type": "stream",
          "text": [
            "enter the no :20\n",
            "the original list :  [1, 2, 3, 4, 5, 6, 7, 8, 9, 10, 11, 12, 13, 14, 15, 16, 17, 18, 19, 20]\n",
            "even nos are :  [2, 4, 6, 8, 10, 12, 14, 16, 18, 20]\n",
            "odd nos are :  [1, 3, 5, 7, 9, 11, 13, 15, 17, 19]\n"
          ],
          "name": "stdout"
        }
      ]
    },
    {
      "cell_type": "markdown",
      "metadata": {
        "id": "d6MFnyxBqYEC"
      },
      "source": [
        "2. Implement List comprehensions to produce the following lists.\n",
        "Write List comprehensions to produce the following Lists\n",
        "\n",
        "['x', 'xx', 'xxx', 'xxxx', 'y', 'yy', 'yyy', 'yyyy', 'z', 'zz', 'zzz', 'zzzz']\n",
        "\n",
        "['x', 'y', 'z', 'xx', 'yy', 'zz', 'xxx', 'yyy', 'zzz', 'xxxx', 'yyyy', 'zzzz']\n",
        "\n",
        "[[2], [3], [4], [3], [4], [5], [4], [5], [6]] \n",
        "\n",
        "[[2, 3, 4, 5], [3, 4, 5, 6],[4, 5, 6, 7], [5, 6, 7, 8]]\n",
        "\n",
        "[(1, 1), (2, 1), (3, 1), (1, 2), (2, 2), (3, 2), (1, 3), (2, 3), (3, 3)]"
      ]
    },
    {
      "cell_type": "code",
      "metadata": {
        "colab": {
          "base_uri": "https://localhost:8080/"
        },
        "id": "nf1TsGPnq9as",
        "outputId": "2e1603b4-ddb9-4d06-9dd8-4fcef64ccb37"
      },
      "source": [
        "# 1st\n",
        "n=int(input(\"enter the no if letters to insert : \"))\n",
        "\n",
        "def seq(a):\n",
        "  b=[]\n",
        "  for i in range(1,a+1):\n",
        "    c=input(\"enter the {} letters : \".format(i))\n",
        "    b.append(c)\n",
        "  print(\"nos are : \",b)\n",
        "  d=[x*n for x in b for n in range(1,5)]\n",
        "  print(\"the output :\",d)\n",
        "    \n",
        "seq(n)\n"
      ],
      "execution_count": 71,
      "outputs": [
        {
          "output_type": "stream",
          "text": [
            "enter the no if letters to insert : 3\n",
            "enter the 1 letters : x\n",
            "enter the 2 letters : y\n",
            "enter the 3 letters : z\n",
            "nos are :  ['x', 'y', 'z']\n",
            "the output : ['x', 'xx', 'xxx', 'xxxx', 'y', 'yy', 'yyy', 'yyyy', 'z', 'zz', 'zzz', 'zzzz']\n"
          ],
          "name": "stdout"
        }
      ]
    },
    {
      "cell_type": "code",
      "metadata": {
        "colab": {
          "base_uri": "https://localhost:8080/"
        },
        "id": "mCIPsmknsaEL",
        "outputId": "e99904f7-6c69-47ef-9d26-ad59646e11ee"
      },
      "source": [
        "# 2nd\n",
        "\n",
        "n=int(input(\"enter the no if letters to insert : \"))\n",
        "\n",
        "def seq(a):\n",
        "  b=[]\n",
        "  d=[]\n",
        "  for i in range(1,a+1):\n",
        "    c=input(\"enter the {} letters : \".format(i))\n",
        "    b.append(c)\n",
        "  print(\"nos are : \",b)\n",
        "\n",
        "  for i in range(1,5):\n",
        "    for m in b:\n",
        "      d.append(m*i)\n",
        "  print(\"the output : \",d)\n",
        "    \n",
        "seq(n)"
      ],
      "execution_count": 70,
      "outputs": [
        {
          "output_type": "stream",
          "text": [
            "enter the no if letters to insert : 3\n",
            "enter the 1 letters : x\n",
            "enter the 2 letters : y\n",
            "enter the 3 letters : z\n",
            "nos are :  ['x', 'y', 'z']\n",
            "the output :  ['x', 'y', 'z', 'xx', 'yy', 'zz', 'xxx', 'yyy', 'zzz', 'xxxx', 'yyyy', 'zzzz']\n"
          ],
          "name": "stdout"
        }
      ]
    },
    {
      "cell_type": "code",
      "metadata": {
        "colab": {
          "base_uri": "https://localhost:8080/"
        },
        "id": "D0jjVjYtyMgy",
        "outputId": "e9c95756-3484-4753-d533-f09d5f10fd08"
      },
      "source": [
        "# 3rd\n",
        "\n",
        "n=[2,3,4]\n",
        "d=[]\n",
        "for i in range(0,3):\n",
        "  for j in n:\n",
        "    d.append([j+i])\n",
        "print(d)"
      ],
      "execution_count": 78,
      "outputs": [
        {
          "output_type": "stream",
          "text": [
            "[[2], [3], [4], [3], [4], [5], [4], [5], [6]]\n"
          ],
          "name": "stdout"
        }
      ]
    },
    {
      "cell_type": "code",
      "metadata": {
        "colab": {
          "base_uri": "https://localhost:8080/"
        },
        "id": "CFOj8Mouy-kh",
        "outputId": "b4e63caf-bf05-4277-8e66-0439f78c0498"
      },
      "source": [
        "# 4th\n",
        "n = [2,3,4,5]\n",
        "result = [ [item+num for item in input_list] for num in range(0,4)  ]\n",
        "print(result)"
      ],
      "execution_count": 90,
      "outputs": [
        {
          "output_type": "stream",
          "text": [
            "[[2, 3, 4, 5], [3, 4, 5, 6], [4, 5, 6, 7], [5, 6, 7, 8]]\n"
          ],
          "name": "stdout"
        }
      ]
    },
    {
      "cell_type": "code",
      "metadata": {
        "colab": {
          "base_uri": "https://localhost:8080/"
        },
        "id": "pTiKopSL26NZ",
        "outputId": "d18d71a9-a09c-47d9-d71b-b8d7f0b7a5ba"
      },
      "source": [
        "# 5th\n",
        "\n",
        "a=[1,2,3]\n",
        "b=[(y,x) for x in a for y in a]\n",
        "print(b)"
      ],
      "execution_count": 91,
      "outputs": [
        {
          "output_type": "stream",
          "text": [
            "[(1, 1), (2, 1), (3, 1), (1, 2), (2, 2), (3, 2), (1, 3), (2, 3), (3, 3)]\n"
          ],
          "name": "stdout"
        }
      ]
    },
    {
      "cell_type": "code",
      "metadata": {
        "id": "R__IsS0k5Vq5"
      },
      "source": [
        ""
      ],
      "execution_count": null,
      "outputs": []
    }
  ]
}