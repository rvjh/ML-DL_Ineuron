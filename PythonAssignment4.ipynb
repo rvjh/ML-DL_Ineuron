{
  "nbformat": 4,
  "nbformat_minor": 0,
  "metadata": {
    "colab": {
      "name": "PythonAssignment4.ipynb",
      "provenance": []
    },
    "kernelspec": {
      "name": "python3",
      "display_name": "Python 3"
    },
    "language_info": {
      "name": "python"
    }
  },
  "cells": [
    {
      "cell_type": "markdown",
      "metadata": {
        "id": "PRF4vHy4UPbP"
      },
      "source": [
        "1.1 Write a Python Program(with class concepts) to find the area of the triangle using the below\n",
        "formula.\n",
        "\n",
        "area = (s*(s-a)*(s-b)*(s-c)) ** 0.5\n",
        "\n",
        "Function to take the length of the sides of triangle from user should be defined in the parent\n",
        "class and function to calculate the area should be defined in subclass."
      ]
    },
    {
      "cell_type": "code",
      "metadata": {
        "id": "ynDhwSaSEegm"
      },
      "source": [
        "class sides:\n",
        "  def __init__(self,a,b,c):\n",
        "    self.a=a\n",
        "    self.b=b\n",
        "    self.c=c\n",
        "\n",
        "class triangle(sides):\n",
        "  def __init__(self,a,b,c):\n",
        "    super().__init__(a,b,c)\n",
        "    \n",
        "  def area(self):\n",
        "    s=(self.a + self.b + self.c)/2\n",
        "    return (float((s*(s-self.a)*(s-self.b)*(s-self.c)) ** 0.5))"
      ],
      "execution_count": 31,
      "outputs": []
    },
    {
      "cell_type": "code",
      "metadata": {
        "colab": {
          "base_uri": "https://localhost:8080/"
        },
        "id": "_U_0lS1FVimF",
        "outputId": "d7c03cf0-5eb0-4308-d887-2b5d9e73d126"
      },
      "source": [
        "a=float(input(\"Enter 1st sides : \"))\n",
        "b=float(input(\"Enter 2nd sides : \"))\n",
        "c=float(input(\"Enter 3rd sides : \"))\n",
        "\n",
        "t=triangle(a,b,c)"
      ],
      "execution_count": 44,
      "outputs": [
        {
          "output_type": "stream",
          "text": [
            "Enter 1st sides : 10\n",
            "Enter 2nd sides : 15\n",
            "Enter 3rd sides : 20\n"
          ],
          "name": "stdout"
        }
      ]
    },
    {
      "cell_type": "code",
      "metadata": {
        "colab": {
          "base_uri": "https://localhost:8080/"
        },
        "id": "HPiArRqOVqMn",
        "outputId": "861852b1-5021-4e6a-f2f6-c05b86761033"
      },
      "source": [
        "t.area()"
      ],
      "execution_count": 45,
      "outputs": [
        {
          "output_type": "execute_result",
          "data": {
            "text/plain": [
              "72.61843774138907"
            ]
          },
          "metadata": {
            "tags": []
          },
          "execution_count": 45
        }
      ]
    },
    {
      "cell_type": "markdown",
      "metadata": {
        "id": "BwCuAMxKaeZb"
      },
      "source": [
        "1.2 Write a function filter_long_words() that takes a list of words and an integer n and returns\n",
        "the list of words that are longer than n."
      ]
    },
    {
      "cell_type": "code",
      "metadata": {
        "id": "_Mg_97KnbsLi"
      },
      "source": [
        "class words:\n",
        "  def __init__(self,a,b):\n",
        "    self.a=a\n",
        "    self.b=b\n",
        "\n",
        "class longword(words):\n",
        "  def __init__(self,a,b):\n",
        "    super().__init__(a,b)\n",
        "  \n",
        "  def cal(self):\n",
        "    m=[]\n",
        "    for i in self.a:\n",
        "      if len(i)>self.b:\n",
        "        m.append(i)\n",
        "    print(\"The output list is : \",m)"
      ],
      "execution_count": 92,
      "outputs": []
    },
    {
      "cell_type": "code",
      "metadata": {
        "colab": {
          "base_uri": "https://localhost:8080/"
        },
        "id": "eewH-pZXgs2s",
        "outputId": "36dec58e-612d-4083-b7a6-b27b8ffa6098"
      },
      "source": [
        "  l=[]\n",
        "  a=int(input(\"Enter the number words to insert :\"))\n",
        "  for i in range(1,a+1):\n",
        "    b=input(\"enter {} words : \".format(i))\n",
        "    l.append(b)\n",
        "  print(\"The original list is : \",l)\n",
        "  c=int(input(\"enter the integer to find the length of words : \"))"
      ],
      "execution_count": 93,
      "outputs": [
        {
          "output_type": "stream",
          "text": [
            "Enter the number words to insert :4\n",
            "enter 1 words : dhoni\n",
            "enter 2 words : virat\n",
            "enter 3 words : chahal\n",
            "enter 4 words : dhawan\n",
            "The original list is :  ['dhoni', 'virat', 'chahal', 'dhawan']\n",
            "enter the integer to find the length of words : 5\n"
          ],
          "name": "stdout"
        }
      ]
    },
    {
      "cell_type": "code",
      "metadata": {
        "id": "LEwl8zLVhzL5"
      },
      "source": [
        "long=longword(l,c)"
      ],
      "execution_count": 94,
      "outputs": []
    },
    {
      "cell_type": "code",
      "metadata": {
        "colab": {
          "base_uri": "https://localhost:8080/"
        },
        "id": "GVvWg5q9jBZC",
        "outputId": "07851b3f-d757-40dc-d0b1-c0f6498b5b06"
      },
      "source": [
        "long.cal()"
      ],
      "execution_count": 95,
      "outputs": [
        {
          "output_type": "stream",
          "text": [
            "The output list is :  ['chahal', 'dhawan']\n"
          ],
          "name": "stdout"
        }
      ]
    },
    {
      "cell_type": "code",
      "metadata": {
        "id": "PSNEp8u9krLk"
      },
      "source": [
        ""
      ],
      "execution_count": null,
      "outputs": []
    },
    {
      "cell_type": "markdown",
      "metadata": {
        "id": "tocggZHckrlH"
      },
      "source": [
        "2.1 Write a Python program using function concept that maps list of words into a list of integers\n",
        "representing the lengths of the corresponding words."
      ]
    },
    {
      "cell_type": "code",
      "metadata": {
        "id": "FRE7xn6TjEQH"
      },
      "source": [
        "def word_to_len(l):\n",
        "  len_word=[]\n",
        "  for i in l:\n",
        "    len_word.append(len(i))\n",
        "  print(\"Length of words : \",len_word)\n"
      ],
      "execution_count": 117,
      "outputs": []
    },
    {
      "cell_type": "code",
      "metadata": {
        "colab": {
          "base_uri": "https://localhost:8080/"
        },
        "id": "biv8UYlam37U",
        "outputId": "7efb31ea-4619-40e2-8e25-1b6ad06080fe"
      },
      "source": [
        "a=int(input(\"Enter how mny words to insert : \"))\n",
        "word=[]\n",
        "for i in range(1,a+1):\n",
        "  b=input(\"enter {} word : \".format(i))\n",
        "  word.append(b)\n",
        "\n",
        "print(\"Words inserted : \",word)\n",
        "word_to_len(word)"
      ],
      "execution_count": 118,
      "outputs": [
        {
          "output_type": "stream",
          "text": [
            "Enter how mny words to insert : 3\n",
            "enter 1 word : ab\n",
            "enter 2 word : abcd\n",
            "enter 3 word : dfgtrwsf\n",
            "Words inserted :  ['ab', 'abcd', 'dfgtrwsf']\n",
            "Length of words :  [2, 4, 8]\n"
          ],
          "name": "stdout"
        }
      ]
    },
    {
      "cell_type": "code",
      "metadata": {
        "id": "CtgiQIbQtdxz"
      },
      "source": [
        ""
      ],
      "execution_count": null,
      "outputs": []
    },
    {
      "cell_type": "markdown",
      "metadata": {
        "id": "EMtuCSNMteZS"
      },
      "source": [
        "2.2 Write a Python function which takes a character (i.e. a string of length 1) and returns True if\n",
        "it is a vowel, False otherwise."
      ]
    },
    {
      "cell_type": "code",
      "metadata": {
        "id": "AgLe8tA4ptgP"
      },
      "source": [
        "def isVowel(c):\n",
        "  if c=='a' or c=='e' or c=='i' or c=='o' or c=='u':\n",
        "    return True\n",
        "  else:\n",
        "    return False"
      ],
      "execution_count": 119,
      "outputs": []
    },
    {
      "cell_type": "code",
      "metadata": {
        "colab": {
          "base_uri": "https://localhost:8080/"
        },
        "id": "JMoqjqtbujtC",
        "outputId": "fed4495e-84e3-4897-8d21-e2bc17178850"
      },
      "source": [
        "isVowel('a')"
      ],
      "execution_count": 120,
      "outputs": [
        {
          "output_type": "execute_result",
          "data": {
            "text/plain": [
              "True"
            ]
          },
          "metadata": {
            "tags": []
          },
          "execution_count": 120
        }
      ]
    },
    {
      "cell_type": "code",
      "metadata": {
        "colab": {
          "base_uri": "https://localhost:8080/"
        },
        "id": "B8aEcHzHul-4",
        "outputId": "8afaeb2c-1997-4bd3-9a7c-a2e4dda5d74c"
      },
      "source": [
        "isVowel('v')"
      ],
      "execution_count": 121,
      "outputs": [
        {
          "output_type": "execute_result",
          "data": {
            "text/plain": [
              "False"
            ]
          },
          "metadata": {
            "tags": []
          },
          "execution_count": 121
        }
      ]
    },
    {
      "cell_type": "code",
      "metadata": {
        "id": "W9L3cdHxusRr"
      },
      "source": [
        ""
      ],
      "execution_count": null,
      "outputs": []
    }
  ]
}