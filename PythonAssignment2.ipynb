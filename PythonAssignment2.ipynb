{
  "nbformat": 4,
  "nbformat_minor": 0,
  "metadata": {
    "colab": {
      "name": "PythonAssignment2.ipynb",
      "provenance": []
    },
    "kernelspec": {
      "name": "python3",
      "display_name": "Python 3"
    },
    "language_info": {
      "name": "python"
    }
  },
  "cells": [
    {
      "cell_type": "markdown",
      "metadata": {
        "id": "w8Nx8Ai63_ar"
      },
      "source": [
        "1. Create the below pattern using nested for loop in Python.\n",
        "\n",
        "                              *\n",
        "                              * *\n",
        "                              * * *\n",
        "                              * * * *\n",
        "                              * * * * *\n",
        "                              * * * *\n",
        "                              * * *\n",
        "                              * *\n",
        "                              *\n",
        "\n",
        "\n"
      ]
    },
    {
      "cell_type": "code",
      "metadata": {
        "colab": {
          "base_uri": "https://localhost:8080/"
        },
        "id": "DXUq6SK0xcSd",
        "outputId": "d07e3708-d25a-4fb9-cf11-f49b29f914df"
      },
      "source": [
        "def pattern(n):\n",
        "  for i in range(0,n):\n",
        "    for j in range(0,i+1):\n",
        "      print(\"* \",end=\" \")\n",
        "    print('\\n')\n",
        "  for i in range(n-1,0,-1):\n",
        "    for j in range(0,i):\n",
        "      print(\"* \",end=\" \")\n",
        "    print('\\n')\n",
        "\n",
        "n=int(input(\"enter n :\"))\n",
        "\n",
        "pattern(n)"
      ],
      "execution_count": 30,
      "outputs": [
        {
          "output_type": "stream",
          "text": [
            "enter n :5\n",
            "*  \n",
            "\n",
            "*  *  \n",
            "\n",
            "*  *  *  \n",
            "\n",
            "*  *  *  *  \n",
            "\n",
            "*  *  *  *  *  \n",
            "\n",
            "*  *  *  *  \n",
            "\n",
            "*  *  *  \n",
            "\n",
            "*  *  \n",
            "\n",
            "*  \n",
            "\n"
          ],
          "name": "stdout"
        }
      ]
    },
    {
      "cell_type": "markdown",
      "metadata": {
        "id": "oOnYV7FI40k_"
      },
      "source": [
        "2. Write a Python program to reverse a word after accepting the input from the user.\n",
        "\n",
        "Sample Output:\n",
        "\n",
        "Input word: ineuron\n",
        "\n",
        "Output: norueni"
      ]
    },
    {
      "cell_type": "code",
      "metadata": {
        "colab": {
          "base_uri": "https://localhost:8080/"
        },
        "id": "p6CAnTx8yAmP",
        "outputId": "d87f61f3-f049-4381-f753-955cd3f3868a"
      },
      "source": [
        "a=input(\"Enter a word :\")\n",
        "\n",
        "def rev(n):\n",
        "  print(n[::-1])\n",
        "\n",
        "rev(a)"
      ],
      "execution_count": 29,
      "outputs": [
        {
          "output_type": "stream",
          "text": [
            "Enter a word :ineuron\n",
            "norueni\n"
          ],
          "name": "stdout"
        }
      ]
    },
    {
      "cell_type": "code",
      "metadata": {
        "id": "hURqeTOT2Cua"
      },
      "source": [
        ""
      ],
      "execution_count": null,
      "outputs": []
    }
  ]
}