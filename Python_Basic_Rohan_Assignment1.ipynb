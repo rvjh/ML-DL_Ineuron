{
  "nbformat": 4,
  "nbformat_minor": 0,
  "metadata": {
    "colab": {
      "name": "Python_Basic_Rohan.ipynb",
      "provenance": []
    },
    "kernelspec": {
      "name": "python3",
      "display_name": "Python 3"
    },
    "language_info": {
      "name": "python"
    }
  },
  "cells": [
    {
      "cell_type": "markdown",
      "metadata": {
        "id": "F0OdTVkHUUMr"
      },
      "source": [
        "1. Write a program which will find all such numbers which are divisible by 7 but are not a multiple of 5, between 2000 and 3200 (both included). The numbers obtained should be printed\n",
        "in a comma-separated sequence on a single line.\n"
      ]
    },
    {
      "cell_type": "code",
      "metadata": {
        "colab": {
          "base_uri": "https://localhost:8080/"
        },
        "id": "im-nt1liRcDM",
        "outputId": "16a12058-fe29-4931-94e7-c18f9aacce42"
      },
      "source": [
        "def fun(x,y):\n",
        "  a=[]\n",
        "  for i in range(x,y+1):\n",
        "    if i%7==0 and i%5!=0:\n",
        "      a.append(i)\n",
        "    else:\n",
        "      pass\n",
        "  print(\"Nos are : \",','.join(str(x) for x in list(a)))\n",
        "\n",
        "m=2000\n",
        "n=3200\n",
        "fun(m,n)"
      ],
      "execution_count": 19,
      "outputs": [
        {
          "output_type": "stream",
          "text": [
            "Nos are :  2002,2009,2016,2023,2037,2044,2051,2058,2072,2079,2086,2093,2107,2114,2121,2128,2142,2149,2156,2163,2177,2184,2191,2198,2212,2219,2226,2233,2247,2254,2261,2268,2282,2289,2296,2303,2317,2324,2331,2338,2352,2359,2366,2373,2387,2394,2401,2408,2422,2429,2436,2443,2457,2464,2471,2478,2492,2499,2506,2513,2527,2534,2541,2548,2562,2569,2576,2583,2597,2604,2611,2618,2632,2639,2646,2653,2667,2674,2681,2688,2702,2709,2716,2723,2737,2744,2751,2758,2772,2779,2786,2793,2807,2814,2821,2828,2842,2849,2856,2863,2877,2884,2891,2898,2912,2919,2926,2933,2947,2954,2961,2968,2982,2989,2996,3003,3017,3024,3031,3038,3052,3059,3066,3073,3087,3094,3101,3108,3122,3129,3136,3143,3157,3164,3171,3178,3192,3199\n"
          ],
          "name": "stdout"
        }
      ]
    },
    {
      "cell_type": "markdown",
      "metadata": {
        "id": "JaXEgpf-U7C9"
      },
      "source": [
        "2. Write a Python program to accept the user's first and last name and then getting them printed in the the reverse order with a space between first name and last name."
      ]
    },
    {
      "cell_type": "code",
      "metadata": {
        "colab": {
          "base_uri": "https://localhost:8080/"
        },
        "id": "kSFXOSi4VBgh",
        "outputId": "5fd69720-8158-4c31-fe12-1bc348670fa9"
      },
      "source": [
        "def name(a,b):\n",
        "  c= a+\" \"+b\n",
        "  print(\"The reverse order of the entered name is : \",c[::-1]) \n",
        "\n",
        "x=input(\"Enter firstname : \")\n",
        "y=input(\"Enter lastname : \")\n",
        "name(x,y)\n"
      ],
      "execution_count": 9,
      "outputs": [
        {
          "output_type": "stream",
          "text": [
            "Enter firstname : rohan\n",
            "Enter lastname : das\n",
            "The reverse order of the entered name is :  sad nahor\n"
          ],
          "name": "stdout"
        }
      ]
    },
    {
      "cell_type": "markdown",
      "metadata": {
        "id": "OwxxsHXrWbRA"
      },
      "source": [
        "3. Write a Python program to find the volume of a sphere with diameter 12 cm. \n",
        "\n",
        "Formula: V=4/3 * π * r 3"
      ]
    },
    {
      "cell_type": "code",
      "metadata": {
        "colab": {
          "base_uri": "https://localhost:8080/"
        },
        "id": "qnezPtvAWzg-",
        "outputId": "91eb9cab-ecc6-4350-ad5c-7547cf260062"
      },
      "source": [
        "from math import pi\n",
        "def vol(d):\n",
        "  r=d/2\n",
        "  v=((4*pi*r**3)/3)\n",
        "  print(\"Volumn is : \",v)\n",
        "\n",
        "a=12   \n",
        "vol(a)"
      ],
      "execution_count": 18,
      "outputs": [
        {
          "output_type": "stream",
          "text": [
            "Volumn is :  904.7786842338604\n"
          ],
          "name": "stdout"
        }
      ]
    },
    {
      "cell_type": "code",
      "metadata": {
        "id": "oEZX8IrrXbRF"
      },
      "source": [
        ""
      ],
      "execution_count": null,
      "outputs": []
    }
  ]
}